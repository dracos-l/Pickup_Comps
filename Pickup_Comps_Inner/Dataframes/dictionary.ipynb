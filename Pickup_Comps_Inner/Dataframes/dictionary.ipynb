{
 "cells": [
  {
   "cell_type": "code",
   "execution_count": 15,
   "metadata": {},
   "outputs": [
    {
     "data": {
      "text/plain": [
       "73"
      ]
     },
     "execution_count": 15,
     "metadata": {},
     "output_type": "execute_result"
    }
   ],
   "source": [
    "import pandas as pd\n",
    "import altair as alt\n",
    "alt.data_transformers.enable('json')\n",
    "\n",
    "_path = \"..//CSV_Data//Big_Boy.csv\"\n",
    "basketball = pd.read_csv(_path)\n",
    "df = basketball.sort_values('%AST', ascending=True)\n",
    "\n",
    "the_master_dic = {}\n",
    "\n",
    "AST_Precentage = input(\"Your %AST: \")\n",
    "OREB_Precentage = input(\"Your %OREB: \")\n",
    "DREB_Precentage = input(\"Your %DREB: \")\n",
    "STL_Precentage = input(\"Your %STL: \")\n",
    "BLK_Precentage = input(\"Your %BLK: \")\n",
    "\n",
    "for i in range(0,351):\n",
    "    the_master_dic[str(df['Player'].iloc[i])] = []\n",
    "    the_master_dic[str(df['Player'].iloc[i])].append(['%AST', round((i/351)*100), round(abs(int(x) - (i/351)*100))])\n",
    "\n",
    "df = basketball.sort_values('%OREB', ascending=True)\n",
    "for i in range(0,351):\n",
    "    the_master_dic[str(df['Player'].iloc[i])].append(['%OREB', round((i/351)*100), round(abs(int(x) - (i/351)*100))])\n",
    "\n",
    "df = basketball.sort_values('%DREB', ascending=True)\n",
    "for i in range(0,351):\n",
    "    the_master_dic[str(df['Player'].iloc[i])].append(['%DREB', round((i/351)*100), round(abs(int(x) - (i/351)*100))])\n",
    "\n",
    "df = basketball.sort_values('%STL', ascending=True)\n",
    "for i in range(0,351):\n",
    "    the_master_dic[str(df['Player'].iloc[i])].append(['%STL', round((i/351)*100), round(abs(int(x) - (i/351)*100))])\n",
    "\n",
    "df = basketball.sort_values('%BLK', ascending=True)\n",
    "for i in range(0,351):\n",
    "    the_master_dic[str(df['Player'].iloc[i])].append(['%BLK', round((i/351)*100), round(abs(int(x) - (i/351)*100))])\n",
    "    \n",
    "#print(the_master_dic)\n",
    "\n",
    "the_master_dic['Joel Embiid'][2][2]\n",
    "\n",
    "\n"
   ]
  }
 ],
 "metadata": {
  "interpreter": {
   "hash": "41a8ddd2040355ff42863a73dcd9d3d11bbe5ae968273a3b57ccd6e5b2a5c4dc"
  },
  "kernelspec": {
   "display_name": "Python 3.10.4 64-bit (windows store)",
   "language": "python",
   "name": "python3"
  },
  "language_info": {
   "codemirror_mode": {
    "name": "ipython",
    "version": 3
   },
   "file_extension": ".py",
   "mimetype": "text/x-python",
   "name": "python",
   "nbconvert_exporter": "python",
   "pygments_lexer": "ipython3",
   "version": "3.9.2"
  },
  "orig_nbformat": 4
 },
 "nbformat": 4,
 "nbformat_minor": 2
}
